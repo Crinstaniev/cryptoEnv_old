{
 "cells": [
  {
   "cell_type": "code",
   "execution_count": 74,
   "metadata": {},
   "outputs": [],
   "source": [
    "import gym\n",
    "import pandas as pd\n",
    "import numpy as np\n",
    "import matplotlib.pyplot as plt\n",
    "\n",
    "from collections import deque\n",
    "from gym import spaces\n"
   ]
  },
  {
   "cell_type": "code",
   "execution_count": 92,
   "metadata": {},
   "outputs": [],
   "source": [
    "class CryptoEnv(gym.Env):\n",
    "    metadata = {'render.modes': ['human']}\n",
    "\n",
    "    def __init__(self, data_df, max_buy=np.inf, min_buy=0, max_sell=np.inf, min_sell=0, transaction_fee=1e-3,\n",
    "                 initial_capital=0, period=100, reward_period=50, eps=1e-7) -> None:\n",
    "        super(CryptoEnv, self).__init__()\n",
    "        # TODO: moving average -> buy and sell signal \n",
    "        # transaction difference buy/sell\n",
    "\n",
    "        # load eth data (test)\n",
    "        self.data = data_df\n",
    "        self.data.dropna(inplace=True)\n",
    "        self.data.sort_values(by='time', ascending=True, inplace=True)\n",
    "\n",
    "        self.cnt_max = len(self.data) - period - 1\n",
    "\n",
    "        self.max_buy = max_buy\n",
    "        self.max_sell = max_sell\n",
    "        self.min_buy = min_buy\n",
    "        self.min_sell = min_sell\n",
    "        self.transaction_fee = transaction_fee\n",
    "        self.period = period\n",
    "        self.reward_period = reward_period\n",
    "        self.date_cnt = 0\n",
    "        self.eps = eps\n",
    "        # crypto wallet\n",
    "        self.initial_capital = initial_capital\n",
    "        self.wallet = initial_capital\n",
    "        self.wallet_usd = 0\n",
    "        self.bs_record = deque([], maxlen=reward_period)\n",
    "\n",
    "        # action space: buy or sell\n",
    "        self.action_space = spaces.Box(\n",
    "            low=-np.inf, high=np.inf, shape=(1,), dtype=np.float32)\n",
    "        # observations: past 'period' days' observation, (PriceUSD, AdrActCnt)\n",
    "        # observation shape: (2, period) (currently)\n",
    "        self.observation_space = spaces.Box(\n",
    "            low=(-np.inf), high=np.inf, shape=(2, self.period), dtype=np.float32)\n",
    "\n",
    "    def _load_period(self):\n",
    "        return self.data.iloc[self.date_cnt:self.date_cnt + self.period][['AdrActCnt', 'PriceUSD']].sort_index(\n",
    "            ascending=False).reset_index()\n",
    "\n",
    "    def _get_current_price(self):\n",
    "        return self._load_period()[0]\n",
    "\n",
    "    def _get_obs(self):\n",
    "        # get current observation\n",
    "        return self._load_period().values.astype(np.float32)\n",
    "\n",
    "    def _get_roi(self):\n",
    "        # calculate roi\n",
    "        bs_record_np = np.array(self.bs_record)\n",
    "        bs_record_pos = bs_record_np[bs_record_np > 0].sum()\n",
    "        bs_record_neg = bs_record_np[bs_record_np < 0].sum()\n",
    "        # print(f'record: {self.bs_record}')\n",
    "        roi = np.divide(bs_record_pos, -bs_record_neg + self.eps)\n",
    "        return roi\n",
    "\n",
    "    def step(self, action):\n",
    "        info = {}\n",
    "        reward = 0\n",
    "        # positive action: buy, negative action: sell\n",
    "        # detect whether exceed the limit\n",
    "        is_buy = np.sign(action[0]) > 0\n",
    "        # print(f'buy: {is_buy}')\n",
    "        abs_val = np.abs(action[0])\n",
    "        price_usd = self._load_period()['PriceUSD'].iloc[0]\n",
    "\n",
    "        if is_buy:\n",
    "            # check limit\n",
    "            if abs_val < self.min_buy or abs_val > self.max_buy:\n",
    "                reward = -10\n",
    "                self.date_cnt += 1\n",
    "                # TODO: return\n",
    "                done = True\n",
    "                return self._get_obs(), reward, done, {}\n",
    "            # buy process\n",
    "            payload = (price_usd * abs_val) * (1 + self.transaction_fee)\n",
    "            self.bs_record.append(-payload)\n",
    "            self.wallet_usd -= payload\n",
    "            self.wallet += abs_val\n",
    "        else:\n",
    "            # check limit & wallet\n",
    "            # print('selling!')\n",
    "            if abs_val < self.min_sell or abs_val > self.max_sell or abs_val > self.wallet:\n",
    "                # print('abort!')\n",
    "                reward = -10\n",
    "                self.date_cnt += 1\n",
    "                # TODO: return\n",
    "                done = True\n",
    "                return self._get_obs(), reward, done, {}\n",
    "            # sell process\n",
    "            payload = (price_usd * abs_val) * (1 + self.transaction_fee)\n",
    "            # print(f'sell payload: {payload}')\n",
    "            self.bs_record.append(payload)\n",
    "            self.wallet_usd += payload\n",
    "            self.wallet -= abs_val\n",
    "\n",
    "        # TODO: calculate ROI for reward\n",
    "        reward = self._get_roi()\n",
    "        observation = self._get_obs()\n",
    "        done = False\n",
    "        # if is done\n",
    "        if self.date_cnt >= self.cnt_max:\n",
    "            done = True\n",
    "\n",
    "        self.date_cnt += 1\n",
    "\n",
    "        return observation, reward, done, info\n",
    "\n",
    "    def reset(self):\n",
    "        # clear chache and reset observation\n",
    "        self.date_cnt = 0\n",
    "        self.wallet = self.initial_capital\n",
    "        self.wallet_usd = 0\n",
    "        self.bs_record = deque([], maxlen=self.reward_period)\n",
    "        return self._get_obs()\n",
    "\n",
    "    def render(self, **kwargs):\n",
    "        print(\n",
    "            f'Step: {self.date_cnt}\\t ROI: {self._get_roi():.4f}\\t wallet: {self.wallet:.4f} ETH')\n"
   ]
  },
  {
   "cell_type": "code",
   "execution_count": 94,
   "metadata": {},
   "outputs": [
    {
     "name": "stdout",
     "output_type": "stream",
     "text": [
      "Step: 1\t ROI: 0.0000\t wallet: 0.0000 ETH\n",
      "Step: 1\t ROI: 0.0000\t wallet: 100.0000 ETH\n",
      "Step: 2\t ROI: 0.0000\t wallet: 200.0000 ETH\n",
      "Step: 3\t ROI: 0.2474\t wallet: 150.0000 ETH\n",
      "Step: 4\t ROI: 0.7379\t wallet: 50.0000 ETH\n",
      "Step: 5\t ROI: 0.0154\t wallet: 10050.0000 ETH\n",
      "random action: [1.6411262]\n",
      "Step: 1\t ROI: 0.0000\t wallet: 1.6411 ETH\n",
      "random action: [0.01357794]\n",
      "Step: 2\t ROI: 0.0000\t wallet: 1.6547 ETH\n",
      "random action: [-1.1807035]\n",
      "Step: 3\t ROI: 0.7138\t wallet: 0.4740 ETH\n"
     ]
    }
   ],
   "source": [
    "env = CryptoEnv(data_df=pd.read_csv('eth.csv'))\n",
    "\n",
    "observation, reward, done, _ = env.step(np.array([-100]))\n",
    "env.render()\n",
    "env.reset()\n",
    "observation, reward, done, _ = env.step(np.array([100]))\n",
    "env.render()\n",
    "observation, reward, done, _ = env.step(np.array([100]))\n",
    "env.render()\n",
    "observation, reward, done, _ = env.step(np.array([-50]))\n",
    "env.render()\n",
    "observation, reward, done, _ = env.step(np.array([-100]))\n",
    "env.render()\n",
    "observation, reward, done, _ = env.step(np.array([10000]))\n",
    "env.render()\n",
    "\n",
    "env.reset()\n",
    "action = env.action_space.sample()\n",
    "print(f'random action: {action}')\n",
    "observation, reward, done, _ = env.step(action)\n",
    "env.render()\n",
    "\n",
    "action = env.action_space.sample()\n",
    "print(f'random action: {action}')\n",
    "observation, reward, done, _ = env.step(action)\n",
    "env.render()\n",
    "\n",
    "action = env.action_space.sample()\n",
    "print(f'random action: {action}')\n",
    "observation, reward, done, _ = env.step(action)\n",
    "env.render()\n"
   ]
  },
  {
   "cell_type": "code",
   "execution_count": 88,
   "metadata": {},
   "outputs": [
    {
     "data": {
      "text/plain": [
       "array([1.2945625], dtype=float32)"
      ]
     },
     "execution_count": 88,
     "metadata": {},
     "output_type": "execute_result"
    }
   ],
   "source": [
    "env.action_space.sample()"
   ]
  },
  {
   "cell_type": "code",
   "execution_count": 48,
   "metadata": {},
   "outputs": [
    {
     "data": {
      "text/plain": [
       "array([[1.61360000e+04, 1.00172281e+01],\n",
       "       [1.76730000e+04, 1.01176767e+01],\n",
       "       [1.62390000e+04, 9.88841057e+00],\n",
       "       [1.76740000e+04, 1.02900543e+01],\n",
       "       [1.62050000e+04, 1.05204115e+01],\n",
       "       [1.74880000e+04, 1.06574669e+01],\n",
       "       [1.69820000e+04, 1.08588095e+01],\n",
       "       [1.81750000e+04, 1.09156866e+01],\n",
       "       [1.50050000e+04, 1.09939137e+01],\n",
       "       [1.64880000e+04, 1.11425228e+01],\n",
       "       [1.33750000e+04, 1.11541977e+01],\n",
       "       [1.93920000e+04, 1.08688612e+01],\n",
       "       [2.11270000e+04, 1.08340807e+01],\n",
       "       [2.06450000e+04, 1.08072023e+01],\n",
       "       [1.99670000e+04, 1.09769831e+01],\n",
       "       [1.54500000e+04, 1.12365084e+01],\n",
       "       [1.71490000e+04, 1.04133396e+01],\n",
       "       [1.88380000e+04, 1.11283607e+01],\n",
       "       [1.87720000e+04, 1.14758968e+01],\n",
       "       [1.90130000e+04, 1.14940481e+01],\n",
       "       [1.94010000e+04, 1.13266439e+01],\n",
       "       [1.89020000e+04, 1.19264431e+01],\n",
       "       [1.77490000e+04, 1.19570141e+01],\n",
       "       [1.90930000e+04, 1.20438585e+01],\n",
       "       [2.32990000e+04, 1.20819082e+01],\n",
       "       [2.09480000e+04, 1.20624714e+01],\n",
       "       [1.45650000e+04, 1.19925060e+01],\n",
       "       [8.79126000e+05, 1.25500736e+01],\n",
       "       [1.07804300e+06, 1.19689207e+01],\n",
       "       [1.18320300e+06, 1.19618015e+01],\n",
       "       [7.13710000e+05, 1.19571190e+01],\n",
       "       [1.01529000e+06, 1.19049816e+01],\n",
       "       [4.98160300e+06, 1.19585695e+01],\n",
       "       [7.15722800e+06, 1.18266077e+01],\n",
       "       [2.26829400e+06, 1.17647781e+01],\n",
       "       [5.17800000e+04, 1.17732487e+01],\n",
       "       [2.00080000e+04, 1.20857868e+01],\n",
       "       [1.95910000e+04, 1.22435036e+01],\n",
       "       [1.96250000e+04, 1.26904478e+01],\n",
       "       [1.80400000e+04, 1.28729820e+01],\n",
       "       [1.75600000e+04, 1.30834665e+01],\n",
       "       [4.02700000e+04, 1.33260365e+01],\n",
       "       [2.16710000e+04, 1.35005302e+01],\n",
       "       [2.27580000e+04, 1.32839718e+01],\n",
       "       [2.20280000e+04, 1.32374153e+01],\n",
       "       [1.76400000e+04, 1.32596979e+01],\n",
       "       [1.98180000e+04, 1.31334963e+01],\n",
       "       [1.88390000e+04, 1.33183413e+01],\n",
       "       [1.75210000e+04, 1.30980911e+01],\n",
       "       [2.32660000e+04, 1.28621464e+01],\n",
       "       [2.01580000e+04, 1.30855503e+01],\n",
       "       [1.85650000e+04, 1.29613743e+01],\n",
       "       [1.80920000e+04, 1.33695269e+01],\n",
       "       [1.75510000e+04, 1.31966772e+01],\n",
       "       [2.09550000e+04, 1.37703981e+01],\n",
       "       [2.46310000e+04, 1.47165251e+01],\n",
       "       [2.09940000e+04, 1.30277882e+01],\n",
       "       [1.96860000e+04, 1.24434290e+01],\n",
       "       [2.11930000e+04, 1.28097696e+01],\n",
       "       [2.15680000e+04, 1.26065540e+01],\n",
       "       [2.12520000e+04, 1.19770412e+01],\n",
       "       [2.05280000e+04, 1.19219322e+01],\n",
       "       [2.07550000e+04, 1.19358940e+01],\n",
       "       [2.19740000e+04, 1.19029245e+01],\n",
       "       [2.07420000e+04, 1.16625662e+01],\n",
       "       [2.03670000e+04, 1.21512842e+01],\n",
       "       [2.08960000e+04, 1.16603327e+01],\n",
       "       [2.26660000e+04, 1.14100037e+01],\n",
       "       [1.97280000e+04, 1.15864010e+01],\n",
       "       [2.07340000e+04, 1.17258873e+01],\n",
       "       [2.04290000e+04, 1.17740574e+01],\n",
       "       [2.09790000e+04, 1.17517071e+01],\n",
       "       [2.02360000e+04, 1.18944626e+01],\n",
       "       [2.27120000e+04, 1.21418858e+01],\n",
       "       [2.21840000e+04, 1.21157513e+01],\n",
       "       [2.18430000e+04, 1.16065254e+01],\n",
       "       [2.02610000e+04, 1.12509861e+01],\n",
       "       [2.10790000e+04, 1.09581451e+01],\n",
       "       [2.00680000e+04, 1.10071144e+01],\n",
       "       [1.97590000e+04, 1.11837921e+01],\n",
       "       [1.98940000e+04, 1.12794704e+01],\n",
       "       [2.13750000e+04, 1.13389091e+01],\n",
       "       [1.99110000e+04, 1.10160875e+01],\n",
       "       [2.19020000e+04, 1.09988012e+01],\n",
       "       [1.99980000e+04, 1.10871429e+01],\n",
       "       [2.01550000e+04, 1.11615505e+01],\n",
       "       [1.96260000e+04, 1.12954569e+01],\n",
       "       [2.00280000e+04, 1.07463140e+01],\n",
       "       [1.97170000e+04, 1.07569962e+01],\n",
       "       [2.00120000e+04, 1.08013382e+01],\n",
       "       [2.08760000e+04, 1.11599379e+01],\n",
       "       [1.98830000e+04, 1.11594934e+01],\n",
       "       [1.94390000e+04, 1.12605886e+01],\n",
       "       [1.94460000e+04, 1.15771170e+01],\n",
       "       [2.00780000e+04, 1.17980366e+01],\n",
       "       [2.25020000e+04, 1.17053604e+01],\n",
       "       [2.11830000e+04, 1.20945978e+01],\n",
       "       [2.27990000e+04, 1.23070736e+01],\n",
       "       [2.04390000e+04, 1.13098850e+01],\n",
       "       [2.00850000e+04, 1.10233011e+01]], dtype=float32)"
      ]
     },
     "execution_count": 48,
     "metadata": {},
     "output_type": "execute_result"
    }
   ],
   "source": [
    "data = pd.read_csv('eth.csv')\n",
    "data.dropna(inplace=True)\n",
    "data.sort_values(by='time', ascending=True, inplace=True)\n",
    "data = data.iloc[0:100][['AdrActCnt', 'PriceUSD']].sort_index(ascending=False)\n",
    "data.values.astype(np.float32)"
   ]
  },
  {
   "cell_type": "code",
   "execution_count": 201,
   "metadata": {},
   "outputs": [
    {
     "data": {
      "text/plain": [
       "10.0172283571011"
      ]
     },
     "execution_count": 201,
     "metadata": {},
     "output_type": "execute_result"
    }
   ],
   "source": [
    "data = pd.read_csv('eth.csv')\n",
    "\n",
    "env = CryptoEnv(data_df=data)\n",
    "env._load_period()['PriceUSD'].iloc[0]\n"
   ]
  },
  {
   "cell_type": "code",
   "execution_count": 203,
   "metadata": {},
   "outputs": [],
   "source": [
    "dq = deque([], maxlen=100)"
   ]
  },
  {
   "cell_type": "code",
   "execution_count": 209,
   "metadata": {},
   "outputs": [],
   "source": [
    "dq.append(10)"
   ]
  },
  {
   "cell_type": "code",
   "execution_count": 206,
   "metadata": {},
   "outputs": [
    {
     "data": {
      "text/plain": [
       "deque([10])"
      ]
     },
     "execution_count": 206,
     "metadata": {},
     "output_type": "execute_result"
    }
   ],
   "source": [
    "dq"
   ]
  },
  {
   "cell_type": "code",
   "execution_count": 210,
   "metadata": {},
   "outputs": [
    {
     "data": {
      "text/plain": [
       "20"
      ]
     },
     "execution_count": 210,
     "metadata": {},
     "output_type": "execute_result"
    }
   ],
   "source": [
    "sum(dq)"
   ]
  },
  {
   "cell_type": "code",
   "execution_count": 7,
   "metadata": {},
   "outputs": [
    {
     "data": {
      "text/plain": [
       "array([-2, -1])"
      ]
     },
     "execution_count": 7,
     "metadata": {},
     "output_type": "execute_result"
    }
   ],
   "source": [
    "dq = deque([1, -2, 1, -1], maxlen=100)\n",
    "dq = np.array(dq)\n",
    "dq = dq[dq < 0]\n",
    "dq"
   ]
  },
  {
   "cell_type": "code",
   "execution_count": 215,
   "metadata": {},
   "outputs": [
    {
     "data": {
      "text/plain": [
       "array([ 1, -1,  1, -1])"
      ]
     },
     "execution_count": 215,
     "metadata": {},
     "output_type": "execute_result"
    }
   ],
   "source": []
  },
  {
   "cell_type": "code",
   "execution_count": 77,
   "metadata": {},
   "outputs": [
    {
     "data": {
      "image/png": "[encoded data removed]",
      "text/plain": [
       "<Figure size 432x288 with 1 Axes>"
      ]
     },
     "metadata": {
      "needs_background": "light"
     },
     "output_type": "display_data"
    }
   ],
   "source": [
    "fig, ax = plt.subplots()"
   ]
  },
  {
   "cell_type": "code",
   "execution_count": null,
   "metadata": {},
   "outputs": [],
   "source": []
  }
 ],
 "metadata": {
  "interpreter": {
   "hash": "6a54c34896df9d41272621b6e0efc8bd0fe8a1a2a931b845a1fee326af3b7153"
  },
  "kernelspec": {
   "display_name": "Python 3.9.7 64-bit ('reinforcement': conda)",
   "language": "python",
   "name": "python3"
  },
  "language_info": {
   "codemirror_mode": {
    "name": "ipython",
    "version": 3
   },
   "file_extension": ".py",
   "mimetype": "text/x-python",
   "name": "python",
   "nbconvert_exporter": "python",
   "pygments_lexer": "ipython3",
   "version": "3.9.7"
  },
  "orig_nbformat": 4
 },
 "nbformat": 4,
 "nbformat_minor": 2
}
