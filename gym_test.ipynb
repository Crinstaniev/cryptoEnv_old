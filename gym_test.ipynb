{
 "cells": [
  {
   "cell_type": "code",
   "execution_count": 1,
   "metadata": {},
   "outputs": [],
   "source": [
    "import gym "
   ]
  },
  {
   "cell_type": "code",
   "execution_count": 2,
   "metadata": {},
   "outputs": [],
   "source": [
    "env = gym.make('CartPole-v1')"
   ]
  },
  {
   "cell_type": "code",
   "execution_count": 8,
   "metadata": {},
   "outputs": [
    {
     "name": "stdout",
     "output_type": "stream",
     "text": [
      "Observation space: Box([-4.8000002e+00 -3.4028235e+38 -4.1887903e-01 -3.4028235e+38], [4.8000002e+00 3.4028235e+38 4.1887903e-01 3.4028235e+38], (4,), float32)\n",
      "Shape: (4,)\n",
      "Action space: Discrete(2)\n"
     ]
    }
   ],
   "source": [
    "print('Observation space:', env.observation_space)\n",
    "print('Shape:', env.observation_space.shape)\n",
    "print('Action space:', env.action_space)"
   ]
  },
  {
   "cell_type": "code",
   "execution_count": 12,
   "metadata": {},
   "outputs": [
    {
     "name": "stdout",
     "output_type": "stream",
     "text": [
      "(4,) 1.0 False {}\n"
     ]
    }
   ],
   "source": [
    "obs = env.reset()\n",
    "action = env.action_space.sample()\n",
    "obs, reward, done, info = env.step(action)\n",
    "print(obs.shape, reward, done, info)"
   ]
  },
  {
   "cell_type": "code",
   "execution_count": 13,
   "metadata": {},
   "outputs": [],
   "source": [
    "import numpy as np\n",
    "import gym \n",
    "from gym import spaces"
   ]
  },
  {
   "cell_type": "code",
   "execution_count": null,
   "metadata": {},
   "outputs": [],
   "source": [
    "class GoLeftEnv(gym.Env):\n",
    "    metadata = {'render.modes': ['console']}\n",
    "    LEFT = 0\n",
    "    RIGHT = 1\n",
    "\n",
    "    def __init__(self, grid_size=10) -> None:\n",
    "        super(GoLeftEnv, self).__init__()\n",
    "\n",
    "        self.grid_size = grid_size\n",
    "        self.agent_pos = grid_size - 1\n",
    "        n_action = 2\n",
    "        self.action_space = spaces.Discrete(n_action)\n",
    "        self.observation_space = spaces.Box(\n",
    "            low=0, high=self.grid_size, shape=(1,), dtype=np.float32)\n",
    "\n",
    "    def reset(self):\n",
    "        self.agent_pos = self.grid_size - 1\n",
    "        return np.array([self.agent_pos]).astype(np.float32)\n",
    "\n",
    "    def step(self, action):\n",
    "        if action == self.LEFT:\n",
    "            self.agent_pos -= 1\n",
    "        elif action == self.RIGHT:\n",
    "            self.agent_pos += 1\n",
    "        else:\n",
    "            raise ValueError('ACTION NOT VALID')\n",
    "\n",
    "        self.agent_pos = np.clip(self.agent_pos, 0, self.grid_size)\n",
    "\n",
    "        done = bool(self.agent_pos == 0)\n",
    "\n",
    "        reward = 1 if self.agent_pos == 0 else 0\n",
    "\n",
    "        info = {}\n",
    "\n",
    "        return np.array([self.agent_pos]).astype(np.float32), reward, done, info\n",
    "\n",
    "    def render(self, mode='console'):\n",
    "        if mode != 'console':\n",
    "            raise NotImplementedError()\n",
    "\n",
    "        print('.' * self.agent_pos, end='')\n",
    "        print('x', end='')\n",
    "        print('.' * (self.grid_size - self.agent_pos))\n"
   ]
  }
 ],
 "metadata": {
  "interpreter": {
   "hash": "6a54c34896df9d41272621b6e0efc8bd0fe8a1a2a931b845a1fee326af3b7153"
  },
  "kernelspec": {
   "display_name": "Python 3.9.7 64-bit ('reinforcement': conda)",
   "language": "python",
   "name": "python3"
  },
  "language_info": {
   "codemirror_mode": {
    "name": "ipython",
    "version": 3
   },
   "file_extension": ".py",
   "mimetype": "text/x-python",
   "name": "python",
   "nbconvert_exporter": "python",
   "pygments_lexer": "ipython3",
   "version": "3.9.7"
  },
  "orig_nbformat": 4
 },
 "nbformat": 4,
 "nbformat_minor": 2
}
